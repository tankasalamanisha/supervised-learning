{
 "cells": [
  {
   "cell_type": "code",
   "execution_count": 2,
   "metadata": {},
   "outputs": [],
   "source": [
    "import numpy as np"
   ]
  },
  {
   "cell_type": "code",
   "execution_count": 5,
   "metadata": {},
   "outputs": [
    {
     "name": "stdout",
     "output_type": "stream",
     "text": [
      "np.zeroes(4):[0. 0. 0. 0.], shape: (4,), dtype: float64\n",
      "np.zeroes(4,):[0. 0. 0. 0.], shape: (4,), dtype: float64\n",
      "np.random.random_sample(4):[0.49363314 0.43489298 0.76408871 0.39794519], shape: (4,), dtype: float64\n"
     ]
    }
   ],
   "source": [
    "a = np.zeros(4)\n",
    "print(f\"np.zeroes(4):{a}, shape: {a.shape}, dtype: {a.dtype}\")\n",
    "a = np.zeros(4,)\n",
    "print(f\"np.zeroes(4,):{a}, shape: {a.shape}, dtype: {a.dtype}\")\n",
    "a = np.random.random_sample(4)\n",
    "print(f\"np.random.random_sample(4):{a}, shape: {a.shape}, dtype: {a.dtype}\")"
   ]
  },
  {
   "cell_type": "code",
   "execution_count": 7,
   "metadata": {},
   "outputs": [
    {
     "name": "stdout",
     "output_type": "stream",
     "text": [
      "np.arange(4.):[0. 1. 2. 3.], shape: (4,), dtype: float64\n",
      "np.random.rand(4):[0.60342918 0.45819447 0.75234101 0.98978509], shape: (4,), dtype: float64\n"
     ]
    }
   ],
   "source": [
    "a= np.arange(4.)\n",
    "print(f\"np.arange(4.):{a}, shape: {a.shape}, dtype: {a.dtype}\")\n",
    "a= np.random.rand(4)\n",
    "print(f\"np.random.rand(4):{a}, shape: {a.shape}, dtype: {a.dtype}\")"
   ]
  },
  {
   "cell_type": "code",
   "execution_count": null,
   "metadata": {},
   "outputs": [],
   "source": []
  }
 ],
 "metadata": {
  "kernelspec": {
   "display_name": "Python 3",
   "language": "python",
   "name": "python3"
  },
  "language_info": {
   "codemirror_mode": {
    "name": "ipython",
    "version": 3
   },
   "file_extension": ".py",
   "mimetype": "text/x-python",
   "name": "python",
   "nbconvert_exporter": "python",
   "pygments_lexer": "ipython3",
   "version": "3.10.13"
  }
 },
 "nbformat": 4,
 "nbformat_minor": 2
}
